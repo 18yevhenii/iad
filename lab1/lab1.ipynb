{
 "cells": [
  {
   "cell_type": "markdown",
   "metadata": {},
   "source": [
    "## Умова лабораторної роботи"
   ]
  },
  {
   "cell_type": "markdown",
   "metadata": {},
   "source": [
    "Дано масив $T$, який складається з $N$ рядків, які відповідають прикладам, і $m$ стовпчиків, які відповідають ознакам. Відомо, що ознака $x_h$ приймає значення з множини $\\{c_{h,1},\\ c_{h,2},\\ \\ldots,\\ c_{h,q_h}\\}$. Дано вектор $y$ розмірності $N$, елементи якого приймають значення з множини $S=\\{s_1,\\ s_2,\\ \\ldots,\\ s_{v}\\}$ (мітки класів для прикладів). Знайти ознаку $x^{*}_{h}$, для якої наступний вираз приймає мінімальне значення:\n",
    "$$G(x_{h})=\\sum\\limits_{i=1}^{q_{h}}\\dfrac{|T_{i}|}{N}H(T_{i},\\ S)$$\n",
    "де $T_{i}$ - підмножина прикладів, для яких ознака $x_{h}$ приймає значення $c_{hi}$, $|A|$ - потужність множини $A$, $H(A,\\ S)$ - ентропія множини $A$ по відношенню до властивості $S$:\n",
    "$$H(A,\\ S)=-\\sum\\limits_{i=1}^{v}\\dfrac{k_{i}}{|A|}\\log_2\\dfrac{k_{i}}{|A|},$$\n",
    "де властивість $S$ може приймати $v$ різних значень, кожне з яких - в $k_{i}$ випадках."
   ]
  },
  {
   "cell_type": "markdown",
   "metadata": {},
   "source": [
    "## Імпорт бібліотек та функції"
   ]
  },
  {
   "cell_type": "code",
   "execution_count": null,
   "metadata": {},
   "outputs": [],
   "source": [
    "import numpy as np"
   ]
  },
  {
   "cell_type": "markdown",
   "metadata": {},
   "source": [
    "## Програмна реалізація"
   ]
  },
  {
   "cell_type": "markdown",
   "metadata": {},
   "source": [
    "Код функцій"
   ]
  },
  {
   "cell_type": "code",
   "execution_count": null,
   "metadata": {},
   "outputs": [],
   "source": [
    "def Entropy(prob):\n",
    "    \"\"\"\n",
    "    Обчислює ентропію для підмножини міток. \n",
    "    Parameters:\n",
    "        subset_labels (numpy.ndarray): масив ймовірностей потрапляння в певний клас, (h, )\n",
    "    Return:\n",
    "        float: ентропія\n",
    "    \"\"\"\n",
    "\n",
    "    entropy = - prob.dot(np.log2(prob))\n",
    "    \n",
    "    return entropy\n",
    "\n",
    "def G(feature_column, labels):\n",
    "    \"\"\"\n",
    "    Обчислює значення критерію G для вибраної ознаки.\n",
    "    Parameters:\n",
    "        feature_column (numpy.ndarray): масив значень вибраної ознаки для всіх прикладів, (N, 1)\n",
    "        labels (numpy.ndarray): масив міток класів для всіх прикладів, (N, 1)\n",
    "    Return:\n",
    "        float: значення критерію G для вибраної ознаки\n",
    "    \"\"\"\n",
    "    g = 0\n",
    "    for value in np.unique(feature_column):\n",
    "        subset_labels = labels[feature_column == value]\n",
    "\n",
    "        _, uniq_counts = np.unique(subset_labels, return_counts=True)\n",
    "        prob = uniq_counts / len(subset_labels)\n",
    "        \n",
    "        g += len(subset_labels) / len(labels) * Entropy(prob)\n",
    "    return g\n"
   ]
  },
  {
   "cell_type": "markdown",
   "metadata": {},
   "source": [
    "## Висновки"
   ]
  },
  {
   "cell_type": "markdown",
   "metadata": {},
   "source": [
    "Було реалізовано функцію згідно з варіантом завдання."
   ]
  }
 ],
 "metadata": {
  "kernelspec": {
   "display_name": "base",
   "language": "python",
   "name": "python3"
  },
  "language_info": {
   "codemirror_mode": {
    "name": "ipython",
    "version": 3
   },
   "file_extension": ".py",
   "mimetype": "text/x-python",
   "name": "python",
   "nbconvert_exporter": "python",
   "pygments_lexer": "ipython3",
   "version": "3.12.3"
  }
 },
 "nbformat": 4,
 "nbformat_minor": 2
}
