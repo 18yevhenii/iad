{
 "cells": [
  {
   "cell_type": "markdown",
   "metadata": {},
   "source": [
    "## Умова лабораторної роботи"
   ]
  },
  {
   "cell_type": "markdown",
   "metadata": {},
   "source": [
    "### Модель класифікації"
   ]
  },
  {
   "cell_type": "markdown",
   "metadata": {},
   "source": [
    "Побудувати моделi класифiкацiї на основi методу дерев рiшень, використовуючи  `sklearn.neural_network.MLPClassifier`з рiзними значеннями гiперпараметрiв."
   ]
  },
  {
   "cell_type": "markdown",
   "metadata": {},
   "source": [
    "### Початкові дані"
   ]
  },
  {
   "cell_type": "markdown",
   "metadata": {},
   "source": [
    "Див. lab2."
   ]
  },
  {
   "cell_type": "markdown",
   "metadata": {},
   "source": [
    "### Завдання"
   ]
  },
  {
   "cell_type": "markdown",
   "metadata": {},
   "source": [
    "Див. lab2.\n"
   ]
  },
  {
   "cell_type": "markdown",
   "metadata": {},
   "source": [
    "## Метрики якості"
   ]
  },
  {
   "cell_type": "markdown",
   "metadata": {},
   "source": [
    "Див lab2."
   ]
  },
  {
   "cell_type": "markdown",
   "metadata": {},
   "source": [
    "## `MLPClassifier`"
   ]
  },
  {
   "cell_type": "markdown",
   "metadata": {},
   "source": [
    "Multi-layer Perceptron - контрольований алгоритм навчання, який вивчає функцію $f:R^m\\rightarrow R^o$ навчаючись на наборі даних, де кількість вимірів для введення та це кількість вимірів для виведення. Дано набір ознак $X=x_1,\\ldots,x_m$ і цільову змінну $y$, він може вивчати апроксиматор нелінійної функції для класифікаці. Відрізняється від логістичної регресії тим, що між вхідним і вихідним шарами може бути один або кілька нелінійних шарів, які називаються прихованими шарами. На малюнку нижче показано MLP одного прихованого шару зі скалярним виходом."
   ]
  },
  {
   "cell_type": "markdown",
   "metadata": {},
   "source": [
    "![image](img/Screen%202025-01-19%20123102.jpg)"
   ]
  },
  {
   "cell_type": "markdown",
   "metadata": {},
   "source": [
    "Вхідний шар складається з набору нейронів $\\{x_i|x_1,\\ldots,x_m\\}$ що представляє вхідні функції. Кожен нейрон у прихованому шарі перетворює значення з попереднього шару за допомогою зваженого лінійного підсумовування $\\sum\\limits_{i=1}^m\\omega_i x_i$ а потім обраховується нелінійна функція активації $g(\\cdot):R\\rightarrow R$\n",
    "\n",
    "MLP навчається на двох масивах: масиві X розміру (n_samples, n_features), який містить навчальні вибірки, представлені як вектори ознак з плаваючою комою; і масив y розміром (n_samples,), який містить цільові значення (мітки класів) для навчальних зразків.\n",
    "\n",
    "MLP навчається за допомогою стохастичного градієнтного спуску , Адама або L-BFGS. Стохастичний градієнтний спад (SGD) оновлює параметри, використовуючи градієнт функції втрат щодо параметра, який потребує адаптації, тобто:\n",
    "$$\\omega\\leftarrow\\omega - \\eta(\\alpha\\dfrac{\\partial R(\\omega)}{\\partial \\omega}+\\dfrac{\\partial Loss}{\\partial \\omega})$$\n",
    "\n",
    "Adam схожий на SGD у тому сенсі, що він є стохастичним оптимізатором, але він може автоматично регулювати кількість для оновлення параметрів на основі адаптивних оцінок моментів нижчого порядку.\n",
    "\n",
    "L-BFGS — це розв’язувач, який апроксимує матрицю Гессе, яка представляє часткову похідну функції другого порядку. Крім того, він апроксимує зворотну матрицю Гессе для виконання оновлення параметрів.\n",
    " \n",
    "Функції активації:\n",
    "\n",
    "1. Tanh (Гіперболічний тангенс):\n",
    "Функція активації tanh відображає вхід у діапазон від $-1$ до $1$.\n",
    "\n",
    "Формула:\n",
    "$$\n",
    "f(x) = \\tanh(x) = \\frac{e^x - e^{-x}}{e^x + e^{-x}}\n",
    "$$\n",
    "\n",
    "Похідна (для backpropagation):\n",
    "$$\n",
    "f'(x) = 1 - \\tanh^2(x)\n",
    "$$\n",
    "\n",
    "\n",
    "\n",
    "2. Logistic (Сигмоїда):\n",
    "Функція logistic (або сигмоїда) відображає вхід у діапазон від $0$ до $1$.\n",
    "\n",
    "Формула:\n",
    "$$\n",
    "f(x) = \\sigma(x) = \\frac{1}{1 + e^{-x}}\n",
    "$$\n",
    "\n",
    "Похідна (для backpropagation):\n",
    "$$\n",
    "f'(x) = \\sigma(x) \\cdot (1 - \\sigma(x))\n",
    "$$\n",
    "\n",
    "\n",
    "\n",
    "3. ReLU (Rectified Linear Unit):\n",
    "Функція ReLU відображає вхід як максимум між $0$ і самим значенням, тобто всі від’ємні значення обнуляються.\n",
    "\n",
    "Формула:\n",
    "$$\n",
    "f(x) = \\max(0, x)\n",
    "$$\n",
    "\n",
    "Похідна (для backpropagation):\n",
    "$$\n",
    "f'(x) =\n",
    "\\begin{cases} \n",
    "1, & \\text{якщо } x > 0 \\\\\n",
    "0, & \\text{якщо } x \\leq 0\n",
    "\\end{cases}\n",
    "$$\n",
    "\n",
    "\n",
    "\n",
    "Порівняння функцій активацій:\n",
    "- Tanh: Використовується для вхідних даних, центрованих навколо $0$, що може сприяти швидшому навчанню. Підходить для регресії та класифікації, але може викликати проблему зникання градієнта на великих або малих значеннях.\n",
    "- Logistic: Добре працює для класифікаційних задач із бінарними виходами, але має ті ж проблеми зі зниканням градієнта.\n",
    "- ReLU: Найбільш популярна функція активації для глибоких мереж через ефективність та простоту. Може викликати проблему \"мертвих нейронів\" (dead neurons), якщо ваги стають такими, що $x \\leq 0$.\n",
    "\n",
    "Рекомендації щодо практичного використання MLP:\n",
    "* Багатошаровий Perceptron чутливий до масштабування функцій, тому настійно рекомендується масштабувати дані $X$. Наприклад, до [0, 1] або [-1, +1] або стандартизуйте його, щоб мати середнє значення 0 і дисперсію 1.\n",
    "* LBFGS збігається швидше та з кращими рішеннями на невеликих наборах даних. Однак для відносно великих наборів даних Adam дуже надійний. Зазвичай він швидко сходиться і дає досить хорошу продуктивність. SGD з імпульсом або імпульсом Нестерова, з іншого боку, може працювати краще, ніж ці два алгоритми, якщо швидкість навчання налаштована правильно."
   ]
  },
  {
   "cell_type": "markdown",
   "metadata": {},
   "source": [
    "##  Імпорт потрібних бібліотек та функцій"
   ]
  },
  {
   "cell_type": "code",
   "execution_count": 1,
   "metadata": {},
   "outputs": [],
   "source": [
    "import pandas as pd\n",
    "import numpy as np\n",
    "import matplotlib.pyplot as plt\n",
    "\n",
    "from sklearn.neural_network import MLPClassifier\n",
    "from sklearn.inspection import DecisionBoundaryDisplay\n",
    "from sklearn.model_selection import GridSearchCV\n",
    "from sklearn.preprocessing import MinMaxScaler\n",
    "from sklearn.pipeline import make_pipeline\n",
    "from sklearn.metrics import (\n",
    "  precision_recall_fscore_support,\n",
    "  RocCurveDisplay,\n",
    "  PrecisionRecallDisplay,\n",
    "  confusion_matrix\n",
    ")\n"
   ]
  },
  {
   "cell_type": "markdown",
   "metadata": {},
   "source": [
    "## `MLPClassifier` для набору (a)"
   ]
  },
  {
   "cell_type": "markdown",
   "metadata": {},
   "source": [
    "### EDA malicious and benign websites & Split Data"
   ]
  },
  {
   "cell_type": "markdown",
   "metadata": {},
   "source": [
    "Див. lab2."
   ]
  },
  {
   "cell_type": "code",
   "execution_count": 2,
   "metadata": {},
   "outputs": [],
   "source": [
    "train_data1 = pd.read_csv(\"../lab2/data/malisicious_and_benign_websites/train.csv\")\n",
    "test_data1 = pd.read_csv(\"../lab2/data/malisicious_and_benign_websites/test.csv\")"
   ]
  },
  {
   "cell_type": "markdown",
   "metadata": {},
   "source": [
    "### Пошук найкращих параметрів `MLPClassifier`"
   ]
  },
  {
   "cell_type": "markdown",
   "metadata": {},
   "source": [
    "Подивимось опис даних."
   ]
  },
  {
   "cell_type": "code",
   "execution_count": 3,
   "metadata": {},
   "outputs": [
    {
     "data": {
      "text/html": [
       "<div>\n",
       "<style scoped>\n",
       "    .dataframe tbody tr th:only-of-type {\n",
       "        vertical-align: middle;\n",
       "    }\n",
       "\n",
       "    .dataframe tbody tr th {\n",
       "        vertical-align: top;\n",
       "    }\n",
       "\n",
       "    .dataframe thead th {\n",
       "        text-align: right;\n",
       "    }\n",
       "</style>\n",
       "<table border=\"1\" class=\"dataframe\">\n",
       "  <thead>\n",
       "    <tr style=\"text-align: right;\">\n",
       "      <th></th>\n",
       "      <th>count</th>\n",
       "      <th>mean</th>\n",
       "      <th>std</th>\n",
       "      <th>min</th>\n",
       "      <th>25%</th>\n",
       "      <th>50%</th>\n",
       "      <th>75%</th>\n",
       "      <th>max</th>\n",
       "    </tr>\n",
       "  </thead>\n",
       "  <tbody>\n",
       "    <tr>\n",
       "      <th>URL_LENGTH</th>\n",
       "      <td>140.0</td>\n",
       "      <td>70.971429</td>\n",
       "      <td>42.180486</td>\n",
       "      <td>21.0</td>\n",
       "      <td>39.00</td>\n",
       "      <td>53.0</td>\n",
       "      <td>90.75</td>\n",
       "      <td>198.0</td>\n",
       "    </tr>\n",
       "    <tr>\n",
       "      <th>NUMBER_SPECIAL_CHARACTERS</th>\n",
       "      <td>140.0</td>\n",
       "      <td>13.650000</td>\n",
       "      <td>6.731142</td>\n",
       "      <td>6.0</td>\n",
       "      <td>9.00</td>\n",
       "      <td>11.0</td>\n",
       "      <td>17.00</td>\n",
       "      <td>36.0</td>\n",
       "    </tr>\n",
       "    <tr>\n",
       "      <th>CHARSET</th>\n",
       "      <td>140.0</td>\n",
       "      <td>1.421429</td>\n",
       "      <td>1.383707</td>\n",
       "      <td>0.0</td>\n",
       "      <td>0.00</td>\n",
       "      <td>1.0</td>\n",
       "      <td>2.00</td>\n",
       "      <td>5.0</td>\n",
       "    </tr>\n",
       "    <tr>\n",
       "      <th>SERVER</th>\n",
       "      <td>140.0</td>\n",
       "      <td>68.178571</td>\n",
       "      <td>61.302208</td>\n",
       "      <td>0.0</td>\n",
       "      <td>6.00</td>\n",
       "      <td>78.5</td>\n",
       "      <td>110.00</td>\n",
       "      <td>175.0</td>\n",
       "    </tr>\n",
       "    <tr>\n",
       "      <th>WHOIS_COUNTRY</th>\n",
       "      <td>140.0</td>\n",
       "      <td>26.171429</td>\n",
       "      <td>12.293148</td>\n",
       "      <td>2.0</td>\n",
       "      <td>11.00</td>\n",
       "      <td>35.0</td>\n",
       "      <td>35.00</td>\n",
       "      <td>39.0</td>\n",
       "    </tr>\n",
       "    <tr>\n",
       "      <th>WHOIS_STATEPRO</th>\n",
       "      <td>140.0</td>\n",
       "      <td>65.828571</td>\n",
       "      <td>51.277345</td>\n",
       "      <td>6.0</td>\n",
       "      <td>19.75</td>\n",
       "      <td>48.5</td>\n",
       "      <td>109.25</td>\n",
       "      <td>173.0</td>\n",
       "    </tr>\n",
       "    <tr>\n",
       "      <th>TCP_CONVERSATION_EXCHANGE</th>\n",
       "      <td>140.0</td>\n",
       "      <td>18.900000</td>\n",
       "      <td>101.095531</td>\n",
       "      <td>0.0</td>\n",
       "      <td>0.00</td>\n",
       "      <td>3.5</td>\n",
       "      <td>18.00</td>\n",
       "      <td>1194.0</td>\n",
       "    </tr>\n",
       "    <tr>\n",
       "      <th>DIST_REMOTE_TCP_PORT</th>\n",
       "      <td>140.0</td>\n",
       "      <td>2.107143</td>\n",
       "      <td>5.288370</td>\n",
       "      <td>0.0</td>\n",
       "      <td>0.00</td>\n",
       "      <td>0.0</td>\n",
       "      <td>1.00</td>\n",
       "      <td>32.0</td>\n",
       "    </tr>\n",
       "    <tr>\n",
       "      <th>REMOTE_IPS</th>\n",
       "      <td>140.0</td>\n",
       "      <td>2.192857</td>\n",
       "      <td>2.881088</td>\n",
       "      <td>0.0</td>\n",
       "      <td>0.00</td>\n",
       "      <td>1.0</td>\n",
       "      <td>3.00</td>\n",
       "      <td>14.0</td>\n",
       "    </tr>\n",
       "    <tr>\n",
       "      <th>APP_BYTES</th>\n",
       "      <td>140.0</td>\n",
       "      <td>1854.585714</td>\n",
       "      <td>8495.209522</td>\n",
       "      <td>0.0</td>\n",
       "      <td>0.00</td>\n",
       "      <td>285.0</td>\n",
       "      <td>2072.00</td>\n",
       "      <td>99843.0</td>\n",
       "    </tr>\n",
       "    <tr>\n",
       "      <th>SOURCE_APP_PACKETS</th>\n",
       "      <td>140.0</td>\n",
       "      <td>20.828571</td>\n",
       "      <td>101.565016</td>\n",
       "      <td>0.0</td>\n",
       "      <td>0.00</td>\n",
       "      <td>4.0</td>\n",
       "      <td>23.00</td>\n",
       "      <td>1198.0</td>\n",
       "    </tr>\n",
       "    <tr>\n",
       "      <th>REMOTE_APP_PACKETS</th>\n",
       "      <td>140.0</td>\n",
       "      <td>21.428571</td>\n",
       "      <td>108.600194</td>\n",
       "      <td>0.0</td>\n",
       "      <td>1.50</td>\n",
       "      <td>5.0</td>\n",
       "      <td>22.00</td>\n",
       "      <td>1284.0</td>\n",
       "    </tr>\n",
       "    <tr>\n",
       "      <th>SOURCE_APP_BYTES</th>\n",
       "      <td>140.0</td>\n",
       "      <td>22286.071429</td>\n",
       "      <td>174272.463557</td>\n",
       "      <td>0.0</td>\n",
       "      <td>93.00</td>\n",
       "      <td>378.0</td>\n",
       "      <td>7304.75</td>\n",
       "      <td>2060012.0</td>\n",
       "    </tr>\n",
       "    <tr>\n",
       "      <th>REMOTE_APP_BYTES</th>\n",
       "      <td>140.0</td>\n",
       "      <td>2004.414286</td>\n",
       "      <td>8541.073326</td>\n",
       "      <td>0.0</td>\n",
       "      <td>0.00</td>\n",
       "      <td>354.0</td>\n",
       "      <td>2375.50</td>\n",
       "      <td>100151.0</td>\n",
       "    </tr>\n",
       "    <tr>\n",
       "      <th>DNS_QUERY_TIMES</th>\n",
       "      <td>140.0</td>\n",
       "      <td>1.928571</td>\n",
       "      <td>2.621557</td>\n",
       "      <td>0.0</td>\n",
       "      <td>0.00</td>\n",
       "      <td>0.0</td>\n",
       "      <td>4.00</td>\n",
       "      <td>8.0</td>\n",
       "    </tr>\n",
       "    <tr>\n",
       "      <th>Type</th>\n",
       "      <td>140.0</td>\n",
       "      <td>0.500000</td>\n",
       "      <td>0.501795</td>\n",
       "      <td>0.0</td>\n",
       "      <td>0.00</td>\n",
       "      <td>0.5</td>\n",
       "      <td>1.00</td>\n",
       "      <td>1.0</td>\n",
       "    </tr>\n",
       "  </tbody>\n",
       "</table>\n",
       "</div>"
      ],
      "text/plain": [
       "                           count          mean            std   min    25%  \\\n",
       "URL_LENGTH                 140.0     70.971429      42.180486  21.0  39.00   \n",
       "NUMBER_SPECIAL_CHARACTERS  140.0     13.650000       6.731142   6.0   9.00   \n",
       "CHARSET                    140.0      1.421429       1.383707   0.0   0.00   \n",
       "SERVER                     140.0     68.178571      61.302208   0.0   6.00   \n",
       "WHOIS_COUNTRY              140.0     26.171429      12.293148   2.0  11.00   \n",
       "WHOIS_STATEPRO             140.0     65.828571      51.277345   6.0  19.75   \n",
       "TCP_CONVERSATION_EXCHANGE  140.0     18.900000     101.095531   0.0   0.00   \n",
       "DIST_REMOTE_TCP_PORT       140.0      2.107143       5.288370   0.0   0.00   \n",
       "REMOTE_IPS                 140.0      2.192857       2.881088   0.0   0.00   \n",
       "APP_BYTES                  140.0   1854.585714    8495.209522   0.0   0.00   \n",
       "SOURCE_APP_PACKETS         140.0     20.828571     101.565016   0.0   0.00   \n",
       "REMOTE_APP_PACKETS         140.0     21.428571     108.600194   0.0   1.50   \n",
       "SOURCE_APP_BYTES           140.0  22286.071429  174272.463557   0.0  93.00   \n",
       "REMOTE_APP_BYTES           140.0   2004.414286    8541.073326   0.0   0.00   \n",
       "DNS_QUERY_TIMES            140.0      1.928571       2.621557   0.0   0.00   \n",
       "Type                       140.0      0.500000       0.501795   0.0   0.00   \n",
       "\n",
       "                             50%      75%        max  \n",
       "URL_LENGTH                  53.0    90.75      198.0  \n",
       "NUMBER_SPECIAL_CHARACTERS   11.0    17.00       36.0  \n",
       "CHARSET                      1.0     2.00        5.0  \n",
       "SERVER                      78.5   110.00      175.0  \n",
       "WHOIS_COUNTRY               35.0    35.00       39.0  \n",
       "WHOIS_STATEPRO              48.5   109.25      173.0  \n",
       "TCP_CONVERSATION_EXCHANGE    3.5    18.00     1194.0  \n",
       "DIST_REMOTE_TCP_PORT         0.0     1.00       32.0  \n",
       "REMOTE_IPS                   1.0     3.00       14.0  \n",
       "APP_BYTES                  285.0  2072.00    99843.0  \n",
       "SOURCE_APP_PACKETS           4.0    23.00     1198.0  \n",
       "REMOTE_APP_PACKETS           5.0    22.00     1284.0  \n",
       "SOURCE_APP_BYTES           378.0  7304.75  2060012.0  \n",
       "REMOTE_APP_BYTES           354.0  2375.50   100151.0  \n",
       "DNS_QUERY_TIMES              0.0     4.00        8.0  \n",
       "Type                         0.5     1.00        1.0  "
      ]
     },
     "execution_count": 3,
     "metadata": {},
     "output_type": "execute_result"
    }
   ],
   "source": [
    "train_data1.describe().T"
   ]
  },
  {
   "cell_type": "markdown",
   "metadata": {},
   "source": [
    "Дані розкидані на дуже великі проміжки. Тому, потрібно зробити пайплайн, для коректного масштабування даних перед подачею до моделі, за допомогою `estimator=make_pipeline(MinMaxScaler(), MLPClassifier())`."
   ]
  },
  {
   "cell_type": "markdown",
   "metadata": {},
   "source": [
    "`grid_search_1` шукає найкращі параметри `MLPClassifier` на даних `train_data1`."
   ]
  },
  {
   "cell_type": "code",
   "execution_count": 4,
   "metadata": {},
   "outputs": [],
   "source": [
    "grid_search_1 = GridSearchCV(\n",
    "  estimator=make_pipeline(MinMaxScaler(), MLPClassifier()),\n",
    "  param_grid={\n",
    "      \"mlpclassifier__solver\": [\"adam\",\"lbfgs\"],\n",
    "      \"mlpclassifier__activation\": [\"relu\"],\n",
    "      \"mlpclassifier__hidden_layer_sizes\": [(48,),(64,)],\n",
    "      \"mlpclassifier__learning_rate\": [\"adaptive\", \"constant\"],\n",
    "      \"mlpclassifier__learning_rate_init\": [0.05,0.01],\n",
    "      \"mlpclassifier__max_iter\": [1500],\n",
    "      \"mlpclassifier__tol\": [1e-3],\n",
    "      \"mlpclassifier__early_stopping\": [True],\n",
    "    },\n",
    "  scoring=[ \"f1\"],\n",
    "  refit=\"f1\",\n",
    "  cv=3,\n",
    "  verbose=1,\n",
    "  error_score='raise'\n",
    ")"
   ]
  },
  {
   "cell_type": "markdown",
   "metadata": {},
   "source": [
    "Виконаємо пошук параметрів `grid_search_1`."
   ]
  },
  {
   "cell_type": "code",
   "execution_count": 5,
   "metadata": {},
   "outputs": [
    {
     "name": "stdout",
     "output_type": "stream",
     "text": [
      "Fitting 3 folds for each of 16 candidates, totalling 48 fits\n",
      "CPU times: total: 6.08 s\n",
      "Wall time: 3.75 s\n"
     ]
    }
   ],
   "source": [
    "%%time\n",
    "_ = grid_search_1.fit(\n",
    "  train_data1.drop(columns=[\"Type\"]),\n",
    "  train_data1[\"Type\"]\n",
    ")"
   ]
  },
  {
   "cell_type": "markdown",
   "metadata": {},
   "source": [
    "Параметри `grid_search_1.best_estimator_`."
   ]
  },
  {
   "cell_type": "code",
   "execution_count": 6,
   "metadata": {},
   "outputs": [
    {
     "name": "stdout",
     "output_type": "stream",
     "text": [
      "{'mlpclassifier__activation': 'relu', 'mlpclassifier__early_stopping': True, 'mlpclassifier__hidden_layer_sizes': (64,), 'mlpclassifier__learning_rate': 'constant', 'mlpclassifier__learning_rate_init': 0.01, 'mlpclassifier__max_iter': 1500, 'mlpclassifier__solver': 'lbfgs', 'mlpclassifier__tol': 0.001}\n",
      "f1: 0.8551559888945907\n"
     ]
    }
   ],
   "source": [
    "print(grid_search_1.best_params_)\n",
    "print(\"f1:\",grid_search_1.best_score_)"
   ]
  },
  {
   "cell_type": "markdown",
   "metadata": {},
   "source": [
    "### Метрики якості `grid_search_1.best_estimator_`"
   ]
  },
  {
   "cell_type": "markdown",
   "metadata": {},
   "source": [
    "Визначимо прогнози моделі `grid_search_1.best_estimator_` на тестовій вибірці `test_data1`."
   ]
  },
  {
   "cell_type": "code",
   "execution_count": 7,
   "metadata": {},
   "outputs": [],
   "source": [
    "y_pred_1 = grid_search_1\\\n",
    "  .best_estimator_\\\n",
    "    .predict(\n",
    "      test_data1.drop(columns=[\"Type\"]\n",
    "    )\n",
    "  )"
   ]
  },
  {
   "cell_type": "markdown",
   "metadata": {},
   "source": [
    "Метрики якості на спрогнозованих значеннях:"
   ]
  },
  {
   "cell_type": "code",
   "execution_count": 8,
   "metadata": {},
   "outputs": [
    {
     "name": "stdout",
     "output_type": "stream",
     "text": [
      "Precision: 0.9069767441860465\n",
      "Recall: 0.8297872340425532\n",
      "F1: 0.8666666666666667\n",
      "Confusion matrix:\n",
      "[[43  4]\n",
      " [ 8 39]]\n"
     ]
    }
   ],
   "source": [
    "precision, recall, f1, _ = precision_recall_fscore_support(\n",
    "  test_data1[\"Type\"],\n",
    "  y_pred_1,\n",
    "  average=\"binary\"\n",
    ")\n",
    "\n",
    "print(f\"Precision: {precision}\")\n",
    "print(f\"Recall: {recall}\")\n",
    "print(f\"F1: {f1}\")\n",
    "print(f\"Confusion matrix:\\n{confusion_matrix(test_data1[\"Type\"],y_pred_1)}\")"
   ]
  },
  {
   "cell_type": "markdown",
   "metadata": {},
   "source": [
    "Відображемо ROC криву та AUC, Precision-Recall криву та Average Precision `grid_search_1.best_estimator_`:"
   ]
  },
  {
   "cell_type": "code",
   "execution_count": 9,
   "metadata": {},
   "outputs": [
    {
     "data": {
      "image/png": "[encoded data removed]",
      "text/plain": [
       "<Figure size 1200x600 with 2 Axes>"
      ]
     },
     "metadata": {},
     "output_type": "display_data"
    }
   ],
   "source": [
    "fig, axes = plt.subplots(1, 2, figsize=(12, 6))\n",
    "\n",
    "RocCurveDisplay.from_estimator(\n",
    "    grid_search_1.best_estimator_,\n",
    "    test_data1.drop(columns=[\"Type\"]),\n",
    "    test_data1[\"Type\"],\n",
    "    ax=axes[0]\n",
    ")\n",
    "axes[0].set_title(\"ROC Curve\")\n",
    "axes[0].grid(True)\n",
    "\n",
    "\n",
    "PrecisionRecallDisplay.from_estimator(\n",
    "    grid_search_1.best_estimator_,\n",
    "    test_data1.drop(columns=[\"Type\"]),\n",
    "    test_data1[\"Type\"],\n",
    "    ax=axes[1] \n",
    ")\n",
    "axes[1].set_title(\"Precision-Recall Curve\")\n",
    "axes[1].grid(True)"
   ]
  },
  {
   "cell_type": "markdown",
   "metadata": {},
   "source": [
    "## `MLPClassifier` для набору (b)"
   ]
  },
  {
   "cell_type": "markdown",
   "metadata": {},
   "source": [
    "### EDA logical_xor websites & Split Data"
   ]
  },
  {
   "cell_type": "markdown",
   "metadata": {},
   "source": [
    "Див. lab2."
   ]
  },
  {
   "cell_type": "code",
   "execution_count": 10,
   "metadata": {},
   "outputs": [],
   "source": [
    "train_data2 = pd.read_csv(\"../lab2/data/logical_xor/train.csv\")\n",
    "test_data2 = pd.read_csv(\"../lab2/data/logical_xor/test.csv\")"
   ]
  },
  {
   "cell_type": "markdown",
   "metadata": {},
   "source": [
    "### Пошук найкращих параметрів `MLPClassifier`"
   ]
  },
  {
   "cell_type": "markdown",
   "metadata": {},
   "source": [
    "`grid_search_2` шукає найкращі параметри `MLPClassifier` на даних `data2`."
   ]
  },
  {
   "cell_type": "code",
   "execution_count": 11,
   "metadata": {},
   "outputs": [],
   "source": [
    "grid_search_2 = GridSearchCV(\n",
    "  estimator=MLPClassifier(),\n",
    "  param_grid={\n",
    "    \"solver\": [\"lbfgs\", \"adam\"],\n",
    "    \"activation\": [\"tanh\",\"logistic\"],\n",
    "    \"hidden_layer_sizes\":  [(8,),(12,),(16,),],\n",
    "    \"learning_rate\": [\"invscaling\", \"adaptive\"],\n",
    "    \"alpha\":[0.1],\n",
    "    \"early_stopping\": [True],\n",
    "    \"tol\": [1e-3]\n",
    "    },\n",
    "  scoring=[\"f1\"],\n",
    "  refit=\"f1\",\n",
    "  cv=3,\n",
    "  verbose=1,\n",
    "  error_score='raise'\n",
    ")"
   ]
  },
  {
   "cell_type": "markdown",
   "metadata": {},
   "source": [
    "Виконаємо пошук параметрів `grid_search_2`."
   ]
  },
  {
   "cell_type": "code",
   "execution_count": 12,
   "metadata": {},
   "outputs": [
    {
     "name": "stdout",
     "output_type": "stream",
     "text": [
      "Fitting 3 folds for each of 24 candidates, totalling 72 fits\n"
     ]
    },
    {
     "name": "stdout",
     "output_type": "stream",
     "text": [
      "CPU times: total: 3.91 s\n",
      "Wall time: 5.69 s\n"
     ]
    }
   ],
   "source": [
    "%%time\n",
    "_ = grid_search_2.fit(\n",
    "  train_data2[[\"X1\", \"X2\"]],\n",
    "  train_data2[\"Y\"]\n",
    ")"
   ]
  },
  {
   "cell_type": "markdown",
   "metadata": {},
   "source": [
    "Параметри `grid_search_2.best_estimator_`."
   ]
  },
  {
   "cell_type": "code",
   "execution_count": 13,
   "metadata": {},
   "outputs": [
    {
     "name": "stdout",
     "output_type": "stream",
     "text": [
      "{'activation': 'tanh', 'alpha': 0.1, 'early_stopping': True, 'hidden_layer_sizes': (8,), 'learning_rate': 'adaptive', 'solver': 'lbfgs', 'tol': 0.001}\n",
      "f1: 0.9713405238828968\n"
     ]
    }
   ],
   "source": [
    "print(grid_search_2.best_params_)\n",
    "print(\"f1:\",grid_search_2.best_score_)"
   ]
  },
  {
   "cell_type": "markdown",
   "metadata": {},
   "source": [
    "### Метрики якості `grid_search_2.best_estimator_`"
   ]
  },
  {
   "cell_type": "markdown",
   "metadata": {},
   "source": [
    "Визначимо прогнози моделі `grid_search_2.best_estimator_` на тестовій вибірці `test_data2`:"
   ]
  },
  {
   "cell_type": "code",
   "execution_count": 14,
   "metadata": {},
   "outputs": [],
   "source": [
    "y_pred_2 = grid_search_2\\\n",
    "  .best_estimator_\\\n",
    "    .predict(\n",
    "        test_data2[[\"X1\", \"X2\"]]\n",
    "    )"
   ]
  },
  {
   "cell_type": "markdown",
   "metadata": {},
   "source": [
    "Метрики якості на спрогнозованих значеннях:"
   ]
  },
  {
   "cell_type": "code",
   "execution_count": 15,
   "metadata": {},
   "outputs": [
    {
     "name": "stdout",
     "output_type": "stream",
     "text": [
      "Precision: 0.95\n",
      "Recall: 1.0\n",
      "F1: 0.9743589743589743\n",
      "Confusion matrix:\n",
      "[[60  3]\n",
      " [ 0 57]]\n"
     ]
    }
   ],
   "source": [
    "precision, recall, f1, _ = precision_recall_fscore_support(\n",
    "  test_data2[\"Y\"],\n",
    "  y_pred_2,\n",
    "  average='binary' \n",
    ")\n",
    "\n",
    "print(f\"Precision: {precision}\")\n",
    "print(f\"Recall: {recall}\")\n",
    "print(f\"F1: {f1}\")\n",
    "print(f\"Confusion matrix:\\n{confusion_matrix(test_data2[\"Y\"],y_pred_2)}\")"
   ]
  },
  {
   "cell_type": "markdown",
   "metadata": {},
   "source": [
    "Відображемо ROC криву та AUC, Precision-Recall криву та Average Precision, границі рішень `grid_search_2.best_estimator_`:"
   ]
  },
  {
   "cell_type": "code",
   "execution_count": 16,
   "metadata": {},
   "outputs": [
    {
     "data": {
      "text/plain": [
       "<matplotlib.collections.PathCollection at 0x2716dc207a0>"
      ]
     },
     "execution_count": 16,
     "metadata": {},
     "output_type": "execute_result"
    },
    {
     "data": {
      "image/png": "[encoded data removed]",
      "text/plain": [
       "<Figure size 1800x600 with 3 Axes>"
      ]
     },
     "metadata": {},
     "output_type": "display_data"
    }
   ],
   "source": [
    "fig, axes = plt.subplots(1, 3, figsize=(18, 6))\n",
    "\n",
    "RocCurveDisplay.from_estimator(\n",
    "    grid_search_2.best_estimator_,\n",
    "    test_data2[[\"X1\", \"X2\"]],\n",
    "    test_data2[\"Y\"],\n",
    "    ax=axes[0]\n",
    ")\n",
    "axes[0].set_title(\"ROC Curve\")\n",
    "axes[0].grid(True)\n",
    "\n",
    "PrecisionRecallDisplay.from_estimator(\n",
    "    grid_search_2.best_estimator_,\n",
    "    test_data2[[\"X1\", \"X2\"]],\n",
    "    test_data2[\"Y\"],\n",
    "    ax=axes[1]\n",
    ")\n",
    "axes[1].set_title(\"Precision-Recall Curve\")\n",
    "axes[1].grid(True)\n",
    "\n",
    "\n",
    "disp = DecisionBoundaryDisplay.from_estimator(\n",
    "    grid_search_2.best_estimator_,\n",
    "    test_data2[[\"X1\", \"X2\"]],\n",
    "    response_method=\"predict\",\n",
    "    xlabel=\"X1\",\n",
    "    ylabel=\"X2\",\n",
    "    alpha=0.5,\n",
    "    cmap=\"coolwarm\",\n",
    "    ax=axes[2]\n",
    ")\n",
    "axes[2].set_title(\"Decision Boundary Display\")\n",
    "\n",
    "\n",
    "disp.ax_.scatter(test_data2[\"X1\"], test_data2[\"X2\"], c=test_data2[\"Y\"], edgecolor=\"k\")"
   ]
  },
  {
   "cell_type": "markdown",
   "metadata": {},
   "source": [
    "## Висновки"
   ]
  },
  {
   "cell_type": "markdown",
   "metadata": {},
   "source": [
    "Для обох наборів даних було побудовано моделі для оптимізації гіперпараметрів `MLPClassifier`.\n",
    "\n",
    "Таблиця порівнянь метрик якості моделей, натренованих на `dataset_Malicious_and_Bening_Websites` (значення приблизні):\n",
    "\n",
    "|                        | Precision | Recall | F1   | AP   | AUC  |\n",
    "|------------------------|-----------|--------|------|------|------|\n",
    "| DecisionTreeClassifier | 0.94      | 0.96   | 0.95 | 0.95 | 0.97 |\n",
    "| MLPClassifier          | 0.93      | 0.87   | 0.90 | 0.94 | 0.95 |\n",
    "\n",
    "Таблиця порівнянь метрик якості моделей, натренованих на `logical_XOR`(значення приблизні):\n",
    "\n",
    "|                  | Precision | Recall | F1   | AP   | AUC  |\n",
    "|------------------------|-----------|--------|------|------|------|\n",
    "| DecisionTreeClassifier | 0.96      | 0.93   | 0.95 | 0.97 | 0.97 |\n",
    "| MLPClassifier          | 0.95      | 1      | 0.97 | 0.99 | 0.99 |\n",
    "\n",
    "Бачимо, що для набору `dataset_Malicious_and_Bening_Websites` показники дещо погіршилися, проте, це пов'язано з наявністю багатьох ознак у наборі. `DecisionTreeClassifier` вибирає лише декілька ознак для булевої логіки, а `MLPClassifier ` використовує усі ознаки.\n",
    "Для `logical_XOR` показники дещо поліпшилися. А також графік границь рішень виглядає краще, у порівнянні з lab2.\n"
   ]
  },
  {
   "cell_type": "markdown",
   "metadata": {},
   "source": []
  }
 ],
 "metadata": {
  "kernelspec": {
   "display_name": "base",
   "language": "python",
   "name": "python3"
  },
  "language_info": {
   "codemirror_mode": {
    "name": "ipython",
    "version": 3
   },
   "file_extension": ".py",
   "mimetype": "text/x-python",
   "name": "python",
   "nbconvert_exporter": "python",
   "pygments_lexer": "ipython3",
   "version": "3.12.3"
  }
 },
 "nbformat": 4,
 "nbformat_minor": 2
}
